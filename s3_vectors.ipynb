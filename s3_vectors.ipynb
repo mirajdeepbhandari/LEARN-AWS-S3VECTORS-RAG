{
 "cells": [
  {
   "cell_type": "markdown",
   "id": "f089c160",
   "metadata": {},
   "source": [
    "## Load PDF and Asynchronously Extract Page"
   ]
  },
  {
   "cell_type": "code",
   "execution_count": null,
   "id": "9754ec4a",
   "metadata": {},
   "outputs": [],
   "source": [
    "from langchain_community.document_loaders import PyPDFLoader\n",
    "\n",
    "loader = PyPDFLoader(r\"NPL.pdf\")\n",
    "pages = []\n",
    "async for page in loader.alazy_load():\n",
    "    pages.append(page)"
   ]
  },
  {
   "cell_type": "markdown",
   "id": "345d69c2",
   "metadata": {},
   "source": [
    "## Define a Pydantic Schema and Clean Page Content"
   ]
  },
  {
   "cell_type": "code",
   "execution_count": 2,
   "id": "c21f34db",
   "metadata": {},
   "outputs": [
    {
     "name": "stdout",
     "output_type": "stream",
     "text": [
      "Total Documents: 39\n",
      "\n",
      "\n",
      "First Document: metadata={'page': 0, 'total_pages': 39, 'page_label': '1'} page_content='NEPAL Country profile: 1) General information of Nepal \\nFormal Name: The Federal Democratic Republic of Nepal. \\nNepal is a landlocked country and the world’s youngest republic. The establishment and \\ndeclaration of a federal dem ocratic republic is 28 May 2008 by the elected constitution \\nassembly.  Nepal has always been an independent  and sovereign country with glorious \\nhistory, culture and tradition that date back to time immemorial.  \\nNepal is characterized by a rugged topogr aphy, very high relief, variable climatic \\nconditions, complex geological structure wit h active tectonic process and continued \\nseismic activities. It is situated in centra l part of the Himalayan belt. It is situated \\nbetween the latitudes of 26’22’’to 30’27’’north and the longitudes of 80’4”to 88’12’’ east. \\nIt covers a landmass area of 147,181sq km and 4,000 sq.km Inland water bodies lakes, \\nreservoirs, and rivers. It is located in so uth Asia occupied only 0.01% of the total \\nlandmass of the Earth. It is bordered on the north by People’s Republic of China and on \\nthe south, east, and west by the Republic of India.  \\nThe elevation of the country rises from 60m tarai (Kechanakalan, Jhapa) to 8,848 m \\nMount Everest in the north within a short horizontal distance of 90 to 120 sq.miles. Such \\na sharp vertically renders the country hi ghly vulnerable to potential water induced \\ndisasters like landslide, slope failure, soil erosion and debris flow etc. The mountains \\nand hills of the country occupy about 83% of  the total area whereas remaining 17% is \\ncovered by low and flat land stretching in the southern part of the country up to the \\nIndian border. \\nIt is commonly divided into the three ph ysiographic areas: (1) the mountains and hills \\nregion situated in the great Himalayas ran ge makes up the northern part of Nepal .It \\ncontains the highest elevatio n in the world including 8,848m (29028) ft. height Mount \\nEverest (sagarmatha in Nepal) on the border  of north Tibet, (2) the hills (pahad, \\nmahabharat, chure, shiwalik) region about the small mountains and varies from 1,000 to \\n4,000 m (3,300-13,125ft.) in a altitude with s ubtropical to temperate climate depending \\nor elevation, and (3) terrain the southern low land placing bordering India. \\nNepal is administratively divided into five development regions, 14 zones, 75 districts, \\n58 municipalities and 3,913 village development committees. It is an ethnically diverse'\n"
     ]
    }
   ],
   "source": [
    "from typing import Dict, Any\n",
    "from pydantic import BaseModel, Field\n",
    "import re\n",
    "\n",
    "class Document_Custom(BaseModel):\n",
    "    metadata: Dict[str, Any] = Field(..., description=\"Metadata of the page\")\n",
    "    page_content: str = Field(..., description=\"The text content of the page\")\n",
    "\n",
    "\n",
    "pages_schema = [\n",
    "    Document_Custom(\n",
    "        metadata={\n",
    "            'page': page.metadata['page'],\n",
    "            'total_pages': page.metadata['total_pages'],\n",
    "            'page_label': page.metadata['page_label']\n",
    "        },\n",
    "        page_content=re.sub(\n",
    "            r'^\\s*Nepal\\s*2009\\s*Compiled by Sagar Mishra\\s*',\n",
    "            '',\n",
    "            re.sub(r'\\xa0+|\\s{4,}', ' ', page.page_content)\n",
    "        ).strip()\n",
    "    )\n",
    "    for page in pages\n",
    "]\n",
    "\n",
    "pages_schema[0]\n",
    "print(f\"Total Documents: {len(pages_schema)}\\n\\n\")\n",
    "print(f\"First Document: {pages_schema[0]}\")"
   ]
  },
  {
   "cell_type": "markdown",
   "id": "80d521d1",
   "metadata": {},
   "source": [
    "## Split Documents into Overlapping Chunks"
   ]
  },
  {
   "cell_type": "code",
   "execution_count": 3,
   "id": "4d2e5c29",
   "metadata": {},
   "outputs": [
    {
     "name": "stdout",
     "output_type": "stream",
     "text": [
      "Total chunks: 262\n"
     ]
    }
   ],
   "source": [
    "from langchain.text_splitter import RecursiveCharacterTextSplitter\n",
    "text_splitter = RecursiveCharacterTextSplitter(\n",
    "    chunk_size=500,\n",
    "    chunk_overlap=200,\n",
    ")\n",
    "chunk_texts = text_splitter.split_documents(pages_schema)\n",
    "\n",
    "print(f\"Total chunks: {len(chunk_texts)}\")"
   ]
  },
  {
   "cell_type": "markdown",
   "id": "a4691b77",
   "metadata": {},
   "source": [
    "## Set Up AWS Credentials and Clients"
   ]
  },
  {
   "cell_type": "code",
   "execution_count": 4,
   "id": "78cd8f0b",
   "metadata": {},
   "outputs": [],
   "source": [
    "from dotenv import load_dotenv\n",
    "import boto3\n",
    "import os\n",
    "\n",
    "# load dotenv\n",
    "load_dotenv()\n",
    "\n",
    "session = boto3.Session(profile_name=os.getenv('AWS_PROFILE_NAME'))\n",
    "credentials = session.get_credentials().get_frozen_credentials()\n",
    "\n",
    "bedrock = boto3.client(\"bedrock-runtime\", \n",
    "                       region_name=\"us-east-1\",\n",
    "                        aws_access_key_id=credentials.access_key,\n",
    "                        aws_secret_access_key=credentials.secret_key,\n",
    "                        aws_session_token=credentials.token\n",
    "                       )\n",
    "\n",
    "s3vectors = boto3.client(\"s3vectors\", \n",
    "                         region_name=\"us-east-1\",\n",
    "                         aws_access_key_id=credentials.access_key,\n",
    "                         aws_secret_access_key=credentials.secret_key,\n",
    "                         aws_session_token=credentials.token\n",
    "                         )"
   ]
  },
  {
   "cell_type": "markdown",
   "id": "305e6062",
   "metadata": {},
   "source": [
    "## Define Function to Get Embeddings from Bedrock"
   ]
  },
  {
   "cell_type": "code",
   "execution_count": 5,
   "id": "dad6958a",
   "metadata": {},
   "outputs": [
    {
     "data": {
      "text/plain": [
       "1024"
      ]
     },
     "execution_count": 5,
     "metadata": {},
     "output_type": "execute_result"
    }
   ],
   "source": [
    "def get_embedding(text: str) -> list:\n",
    "    import json\n",
    "    body = json.dumps({\"inputText\": text})\n",
    "\n",
    "    response = bedrock.invoke_model(\n",
    "        modelId=\"amazon.titan-embed-text-v2:0\", \n",
    "        body=body,\n",
    "        contentType=\"application/json\"\n",
    "    )\n",
    "\n",
    "    response_body = json.loads(response['body'].read())\n",
    "    embedding = response_body.get(\"embedding\", [])\n",
    "    return embedding\n",
    "\n",
    "emd = get_embedding(\"i am miraj\")\n",
    "len(emd)"
   ]
  },
  {
   "cell_type": "markdown",
   "id": "01e324e5",
   "metadata": {},
   "source": [
    "## Generate Embeddings for All Chunks"
   ]
  },
  {
   "cell_type": "code",
   "execution_count": 6,
   "id": "1c9caf3a",
   "metadata": {},
   "outputs": [],
   "source": [
    "Embeddings=[]\n",
    "for text in chunk_texts:\n",
    "    emb=get_embedding(text.page_content)\n",
    "    Embeddings.append(emb)"
   ]
  },
  {
   "cell_type": "markdown",
   "id": "af0aafe0",
   "metadata": {},
   "source": [
    "## Prepare Items for S3 Vector Storage"
   ]
  },
  {
   "cell_type": "code",
   "execution_count": 7,
   "id": "ed269f09",
   "metadata": {},
   "outputs": [],
   "source": [
    "import uuid\n",
    "\n",
    "items_to_insert = []\n",
    "for vector, text in zip(Embeddings, chunk_texts):\n",
    "    item = {\n",
    "        \"key\": f\"npl-page-{text.metadata['page']}-{uuid.uuid4()}\",\n",
    "         \"data\": {\"float32\": vector},\n",
    "        \"metadata\": {\n",
    "            \"page\": text.metadata['page'],\n",
    "            \"total_pages\": text.metadata['total_pages'],\n",
    "            \"page_label\": text.metadata['page_label'],\n",
    "            \"content\": text.page_content\n",
    "        }\n",
    "    }\n",
    "    items_to_insert.append(item)\n",
    "  "
   ]
  },
  {
   "cell_type": "markdown",
   "id": "a138dde7",
   "metadata": {},
   "source": [
    "## Write Embeddings and Metadata to S3 Vector Index"
   ]
  },
  {
   "cell_type": "code",
   "execution_count": 8,
   "id": "07556987",
   "metadata": {},
   "outputs": [
    {
     "data": {
      "text/plain": [
       "{'ResponseMetadata': {'RequestId': 'b60ef2f1-0bdd-4387-a420-63928100ed69',\n",
       "  'HostId': '',\n",
       "  'HTTPStatusCode': 200,\n",
       "  'HTTPHeaders': {'date': 'Thu, 28 Aug 2025 11:46:59 GMT',\n",
       "   'content-type': 'application/json',\n",
       "   'content-length': '2',\n",
       "   'connection': 'keep-alive',\n",
       "   'x-amz-request-id': 'b60ef2f1-0bdd-4387-a420-63928100ed69',\n",
       "   'access-control-allow-origin': '*',\n",
       "   'vary': 'origin, access-control-request-method, access-control-request-headers',\n",
       "   'access-control-expose-headers': '*'},\n",
       "  'RetryAttempts': 0}}"
      ]
     },
     "execution_count": 8,
     "metadata": {},
     "output_type": "execute_result"
    }
   ],
   "source": [
    "# Write embeddings into vector index with metadata.\n",
    "s3vectors.put_vectors(\n",
    "    vectorBucketName=\"npl-bucket\",   \n",
    "    indexName=\"npl-index\",   \n",
    "    vectors=items_to_insert\n",
    ")"
   ]
  },
  {
   "cell_type": "markdown",
   "id": "94ce3f55",
   "metadata": {},
   "source": [
    "## Write Embeddings and Metadata to S3 Vector Index"
   ]
  },
  {
   "cell_type": "code",
   "execution_count": 15,
   "id": "7bb2330a",
   "metadata": {},
   "outputs": [
    {
     "name": "stdout",
     "output_type": "stream",
     "text": [
      "[\n",
      "  {\n",
      "    \"key\": \"npl-page-12-7cfa7141-492e-4d21-a835-36876d479e89\",\n",
      "    \"metadata\": {\n",
      "      \"page\": 12,\n",
      "      \"total_pages\": 39,\n",
      "      \"content\": \"damage and the risk could not be ignored anymore. \\n(2) Koshi flood 2008 \\nTorrential rain that start ed in the beginning of august 17,2008 killed more than 20 and \\nmissing more than 50 injured 200, affect ed approximately 150000 thousand and 20000 \\nhousehold completely destroyed nearly $3 billion in properly damaged and loss. \\n(3) Landslide (August 2007) \\nFloods and landslides triggered by torrential rains in August 2007 killed 203, affected\",\n",
      "      \"page_label\": \"13\"\n",
      "    },\n",
      "    \"distance\": 0.21141356229782104\n",
      "  },\n",
      "  {\n",
      "    \"key\": \"npl-page-5-ac60f478-30a1-42fb-b830-43573a6521bc\",\n",
      "    \"metadata\": {\n",
      "      \"content\": \"infrastructure like roads and bridges. Inundati ons have disrupted social and economic \\ndevelopment of many parts of terrain region in the country. The flood of august 2008 in \\nKoshi river was the most devastating .The fo llowing types of floods are observed in \\nNepal: (1) Monsoon floods (2) Flash floods  \\nKoshi flood 2008\",\n",
      "      \"page_label\": \"6\",\n",
      "      \"total_pages\": 39,\n",
      "      \"page\": 5\n",
      "    },\n",
      "    \"distance\": 0.5521422624588013\n",
      "  },\n",
      "  {\n",
      "    \"key\": \"npl-page-36-9b239a20-c164-4511-9ec6-ae5a4624a49d\",\n",
      "    \"metadata\": {\n",
      "      \"page_label\": \"37\",\n",
      "      \"total_pages\": 39,\n",
      "      \"page\": 36,\n",
      "      \"content\": \"livestock, and livelihood support) for people displaced by the  Koshi  floods is also \\nplanned in 2009. The overall amount requested 2009 appeal under the food security is \\nUS$46 million for 3.1 million beneficiaries (5,45,800 households).\\uf020 (4) WATER SANITATION AND HYGIENE To control the annual outbreaks of  Acute Gastroenteritis (AGE), mainly occurring in the \\nHills and mountains, train lo cal volunteers, promote t he use of household water\"\n",
      "    },\n",
      "    \"distance\": 0.574795126914978\n",
      "  }\n",
      "]\n"
     ]
    }
   ],
   "source": [
    "import json\n",
    "\n",
    "input_text = \"how many people died in Koshi flood 2008?\"\n",
    "\n",
    "input_embeddings = get_embedding(input_text)\n",
    "\n",
    "# Query vector index with a metadata filter.\n",
    "retrival_response = s3vectors.query_vectors(\n",
    "    vectorBucketName=\"npl-bucket\",\n",
    "    indexName=\"npl-index\",\n",
    "    queryVector={\"float32\": input_embeddings}, \n",
    "    topK=3, \n",
    "    # filter={\"page\": 16},\n",
    "    returnDistance=True,\n",
    "    returnMetadata=True\n",
    ")\n",
    "print(json.dumps(retrival_response[\"vectors\"], indent=2))\n",
    "    "
   ]
  },
  {
   "cell_type": "markdown",
   "id": "54ea6fa6",
   "metadata": {},
   "source": [
    "## RAG Model: Generate Answer Using Retrieved Context"
   ]
  },
  {
   "cell_type": "code",
   "execution_count": 16,
   "id": "5c24f5d7",
   "metadata": {},
   "outputs": [
    {
     "name": "stdout",
     "output_type": "stream",
     "text": [
      "Model Response: Based on the provided context, the Koshi flood of 2008, which began with torrential rain on August 17, 2008, killed more than 20 people. The flood also left more than 50 people missing, injured approximately 200 people, affected around 150,000 people, and completely destroyed about 20,000 households. The disaster caused nearly $3 billion in property damage and loss. This flood was described as \"the most devastating\" among the types of floods observed in Nepal.\n"
     ]
    }
   ],
   "source": [
    "def RagModel(prompt_template, bedrock_client, model_selected):\n",
    "        \n",
    "        # Inference configuration\n",
    "        inference_config = {\n",
    "            \"temperature\": 0.5,\n",
    "            \"topP\": 0.5,\n",
    "            \"stopSequences\": [],\n",
    "            \"maxTokens\": 4096,\n",
    "        }\n",
    "\n",
    "        additional_model_fields = {\n",
    "            \"top_k\": 250,\n",
    "            \n",
    "        }\n",
    "    \n",
    "    \n",
    "        chat_messages =  [\n",
    "            {\"role\": \"user\", \"content\": [{\"text\": prompt_template}]}\n",
    "        ]\n",
    "        \n",
    "\n",
    "        try:\n",
    "            response = bedrock_client.converse(\n",
    "                # system=system_prompts,\n",
    "                modelId=model_selected,\n",
    "                messages=chat_messages,\n",
    "                inferenceConfig=inference_config,\n",
    "                additionalModelRequestFields=additional_model_fields\n",
    "            )\n",
    "            \n",
    "            output_message = response['output']['message']\n",
    "            answer = output_message['content'][0]['text']\n",
    "            return answer\n",
    "    \n",
    "        except Exception as e:\n",
    "            print(f\"Error during conversation: {str(e)}\")\n",
    "            return \"An error occurred during inference.\"\n",
    "\n",
    "\n",
    "prompt= \"\"\"\"\n",
    "\n",
    "You are an expert in Nepal's history,Your task is to provide a comprehensive answer based on the provided context.\n",
    "Please read the following context carefully and answer the question at the end.\n",
    "Context:\n",
    "{context}\\n\\n\n",
    "\n",
    "Question: {question}\\n\\n\n",
    "\n",
    "Answer:\"\"\"\n",
    "\n",
    "\n",
    "model_response = RagModel(\n",
    "    prompt_template=prompt.format(context=retrival_response, question= input_text),\n",
    "    bedrock_client=bedrock,\n",
    "    model_selected=\"us.anthropic.claude-3-7-sonnet-20250219-v1:0\"\n",
    ")\n",
    "\n",
    "print(\"Model Response:\", model_response)"
   ]
  }
 ],
 "metadata": {
  "kernelspec": {
   "display_name": "venv",
   "language": "python",
   "name": "python3"
  },
  "language_info": {
   "codemirror_mode": {
    "name": "ipython",
    "version": 3
   },
   "file_extension": ".py",
   "mimetype": "text/x-python",
   "name": "python",
   "nbconvert_exporter": "python",
   "pygments_lexer": "ipython3",
   "version": "3.12.10"
  }
 },
 "nbformat": 4,
 "nbformat_minor": 5
}
